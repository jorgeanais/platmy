{
 "cells": [
  {
   "cell_type": "markdown",
   "metadata": {},
   "source": [
    "# Brief description of how to use petitRADTRANS for different cloud composition and spectra up to 15 μm\n",
    "\n",
    "*Jorge Anais Vilchez  \n",
    "14 August 2020*\n",
    "\n",
    "In this tutorial I will show you how to use petitRADTRANS to perform a spectra model, in particular the case with spectra covering from 0.3 μm to 15 μm, and using different cloud composition. For further info check the official documentation https://petitradtrans.readthedocs.io/en/latest/index.html. All the units are in cgs except for pressure which is in units of bar.\n",
    "\n",
    "I am assuming that you have already installed petitRADTRANS (instructions of how to install in https://petitradtrans.readthedocs.io/en/latest/content/installation.html) and you have downloaded all the necessary data files."
   ]
  },
  {
   "cell_type": "markdown",
   "metadata": {},
   "source": [
    "## Preparing a radiative transfer object\n",
    "\n",
    "To start, we first load petitRADTRANS module and some utilities"
   ]
  },
  {
   "cell_type": "code",
   "execution_count": 1,
   "metadata": {},
   "outputs": [],
   "source": [
    "from petitRADTRANS import Radtrans\n",
    "from petitRADTRANS import nat_cst as nc\n",
    "import numpy as np"
   ]
  },
  {
   "cell_type": "markdown",
   "metadata": {},
   "source": [
    "The most relevant class in petitRADTRANS is `Radtrans`. To instanciate a Radtrans object you need to specify all **opacity species** that you want to use to perform the models, including:\n",
    "\n",
    " - Atomic line absorbers (high and low resolution)\n",
    " - Rayleigh scatterers\n",
    " - Continuum opacity sources\n",
    " - Cloud opacities\n",
    "\n",
    "You can find a complete list of the species availables at https://petitradtrans.readthedocs.io/en/latest/content/available_opacities.html\n",
    " \n",
    "There are two **resolution modes**:\n",
    " \n",
    " - `'c-k'`: correlated-k mode (low resolution)\n",
    " - `'lbl'`: The line by line mode (high resolution)\n",
    " \n",
    "Also you have to provide the **wavelenght range** in microns. Instantiation of this object could take a while ($\\lesssim 1$ min), mainly because it has to load the corresponding opacities for each specie from their respectives files.\n",
    "\n"
   ]
  },
  {
   "cell_type": "code",
   "execution_count": 2,
   "metadata": {},
   "outputs": [
    {
     "name": "stdout",
     "output_type": "stream",
     "text": [
      "\n",
      "  Read CIA opacities for H2-H2...\n",
      "  Read CIA opacities for H2-He...\n",
      " Done.\n",
      "\n"
     ]
    }
   ],
   "source": [
    "atmosphere = Radtrans(line_species=['C2H2', 'CH4', 'CO', 'CO2', 'H2', 'H2O', 'H2S', 'HCN', 'NH3', 'OH', 'PH3', 'VO'],\n",
    "                      rayleigh_species=['H2', 'He'],\n",
    "                      continuum_opacities=['H2-H2', 'H2-He'],\n",
    "                      cloud_species=['Mg2SiO4(c)_cd'],\n",
    "                      wlen_bords_micron = [0.3, 15],\n",
    "                      mode='c-k')"
   ]
  },
  {
   "cell_type": "markdown",
   "metadata": {},
   "source": [
    "### Pressure\n",
    "Then, the pressures of the atmospheric layers must be defined. Pressures must always be sorted in increasing order, and be equidistant in log-space. They recommend to use ~100 layers. We also set $P_0=0.01$ bar"
   ]
  },
  {
   "cell_type": "code",
   "execution_count": 3,
   "metadata": {},
   "outputs": [],
   "source": [
    "pressure = np.logspace(-6, 2, 100)\n",
    "atmosphere.setup_opa_structure(pressure)\n",
    "\n",
    "p0 = 0.01  # bar"
   ]
  },
  {
   "cell_type": "markdown",
   "metadata": {},
   "source": [
    "## Calculating a transmission spectrum\n",
    "\n"
   ]
  },
  {
   "cell_type": "markdown",
   "metadata": {},
   "source": [
    "### Surface Gravity\n",
    "In this example I will use the warm giant planet **HD1397b**, their physical parameters are\n",
    "\n",
    "$M_{p} = 0.367 M_J$  \n",
    "$R_{p} = 1.023 R_J$\n",
    "\n",
    "First we calculate the surface gravity"
   ]
  },
  {
   "cell_type": "code",
   "execution_count": 4,
   "metadata": {},
   "outputs": [],
   "source": [
    "m_pl = 0.367 * nc.m_jup\n",
    "r_pl = 1.023 * nc.r_jup\n",
    "\n",
    "gravity = nc.G * m_pl / r_pl ** 2"
   ]
  },
  {
   "cell_type": "markdown",
   "metadata": {},
   "source": [
    "### Temperature \n",
    "\n",
    "To calculate the transmission spectrum we need to provide a temperature model for each layer, It could be a simple isothermal model or something like [Guillot](https://ui.adsabs.harvard.edu/abs/2010A%26A...520A..27G/abstract) (2010), that we are going to use now. We assume an atmosphere equilibrium temperature of 500 K."
   ]
  },
  {
   "cell_type": "code",
   "execution_count": 5,
   "metadata": {},
   "outputs": [],
   "source": [
    "kappa_IR = 0.01\n",
    "gamma = 0.4\n",
    "T_int = 200\n",
    "T_equ = 500\n",
    "\n",
    "temperature = nc.guillot_global(pressure, kappa_IR, gamma, gravity, T_int, T_equ)"
   ]
  },
  {
   "cell_type": "markdown",
   "metadata": {},
   "source": [
    "### Abundances and Mean molecular weight\n",
    "\n",
    "Then we have to provide an abundance dictionary, containing the **mass fraction** of the atmospheric material, at every layer, and the atmospheric mean molecular weight, at every layer, in units of amu.\n",
    "\n",
    "To do that we are going to use the values obtaind by `easy_chem` fortran code. This code allows to calculate the mass fractions of the reactants at certain pressure and temperature given the numeric fraction of the available atoms. What this code does is to minimize the total Gibbs free energy of all possible species while conserving the number of atoms of every atomic species.\n",
    "\n",
    "Note: To compile your own version of `easy_chem` you need a fortran compiler (in my case I have installed gfortran 9.3.0). Just execute `make clean` and then `make` and it should generate some files including `call_easy_chem` executable.\n",
    "\n",
    "I tried with different atomic fractions, as detailed in the following table:\n",
    "\n",
    "|          | Solar         | Subsolar      | Earth-like    | 10x solar     | 10x less solar |\n",
    "|----------|---------------|---------------|---------------|---------------|----------------|\n",
    "| H nfrac  | 0.92075393050 | 0.74353810000 | 0.00000056000 | 0.91347838014 |  0.92148148562 |\n",
    "| He nfrac | 0.07836886940 | 0.24100303000 | 0.00000524000 | 0.07774961963 |  0.07843079438 |\n",
    "| C nfrac  | 0.00024782410 | 0.00228489000 | 0.00037900000 | 0.00247824100 |  0.00002478241 |\n",
    "| N nfrac  | 0.00006225061 | 0.00057122000 | 0.78084000000 | 0.00062250606 |  0.00000622506 |\n",
    "| O nfrac  | 0.00045096580 | 0.01002145000 | 0.20946000000 | 0.00450965800 |  0.00004509658 |\n",
    "| Na nfrac | 0.00000160009 | 0.00003556000 | 0.00012831604 | 0.00001600087 |  0.00000016001 |\n",
    "| Mg nfrac | 0.00003665587 | 0.00081457000 | 0.00293955071 | 0.00036655874 |  0.00000366559 |\n",
    "| Al nfrac | 0.00000259500 | 0.00005767000 | 0.00020810127 | 0.00002595000 |  0.00000025950 |\n",
    "| Si nfrac | 0.00002979500 | 0.00066211000 | 0.00238935547 | 0.00029795000 |  0.00000297950 |\n",
    "| P nfrac  | 0.00000023667 | 0.00000526000 | 0.00001897933 | 0.00000236670 |  0.00000002367 |\n",
    "| S nfrac  | 0.00001213790 | 0.00026973000 | 0.00097337672 | 0.00012137901 |  0.00000121379 |\n",
    "| Cl nfrac | 0.00000029117 | 0.00000647000 | 0.00002334968 | 0.00000291168 |  0.00000002912 |\n",
    "| K nfrac  | 0.00000009866 | 0.00000219000 | 0.00000791190 | 0.00000098661 |  0.00000000987 |\n",
    "| Ca nfrac | 0.00000201439 | 0.00004476000 | 0.00016154033 | 0.00002014390 |  0.00000020144 |\n",
    "| Ti nfrac | 0.00000008206 | 0.00000182000 | 0.00000658083 | 0.00000082062 |  0.00000000821 |\n",
    "| V nfrac  | 0.00000000784 | 0.00000017000 | 0.00000062846 | 0.00000007837 |  0.00000000078 |\n",
    "| Fe nfrac | 0.00002911680 | 0.00064704000 | 0.00233496813 | 0.00029116796 |  0.00000291168 |\n",
    "| Ni nfrac | 0.00000152807 | 0.00003396000 | 0.00012254087 | 0.00001528071 |  0.00000015281 |\n",
    "| TOTAL    | 0.99999999992 | 1.00000000000 |    1.00000000 | 1.00000000000 |  1.00000000000 |\n",
    "| C/O      |          0.55 |          0.23 |          0.00 |          0.55 |           0.55 |\n",
    "| C/N      |          3.98 |          4.00 |          0.00 |          3.98 |           3.98 |\n",
    "| [Fe/H]   |          0.00 |          1.44 |          8.12 |          1.00 |          -1.00 |\n",
    " \n",
    "\n",
    "Solar composition is extracted from Asplund et al. (2009). Other columns are custom made.\n",
    "For each column here, I create a `*.inp` file with their respective values. You can find this files in the folder `easy_chem/`. \n",
    "\n",
    "\n",
    "The program will read by default `abundances.inp`, so you will have to rename the apropiate inp file.\n",
    "\n",
    "**Important**: Make sure that all the species that you want to consider are included in the list of reactants in the file `abundances.inp`.\n",
    "\n",
    "To call `easy_chem` I use an intermediary function in python `get_PT_abundances_MMW` (see teh attached file `utils.py`). This function will return a dictionary with the reactant mass fractions and the mean molecular weight.\n",
    "\n",
    "\n",
    "\n"
   ]
  },
  {
   "cell_type": "code",
   "execution_count": 6,
   "metadata": {},
   "outputs": [],
   "source": [
    "from utils import read_abunds, get_PT_abundances_MMW\n",
    "\n",
    "abundances, mmw = get_PT_abundances_MMW(pressure, temperature)"
   ]
  },
  {
   "cell_type": "markdown",
   "metadata": {},
   "source": [
    "## Setting the cloud particle size\n",
    "\n",
    "We have to define a few additional parameters for the clouds: the mean particle size and width of the log-normal particle distribution.\n",
    "\n",
    "Note: in this case we are only considering one condensate, if you want to add more make sure to add them to the .ino file and define the corresponding mean particle size like below."
   ]
  },
  {
   "cell_type": "code",
   "execution_count": 7,
   "metadata": {},
   "outputs": [],
   "source": [
    "radius = {}\n",
    "radius['Mg2SiO4(c)'] = 0.00005 * np.ones_like(temperature) # I.e. a 0.5-micron particle size (0.00005 cm)\n",
    "\n",
    "sigma_lnorm = 1.05"
   ]
  },
  {
   "cell_type": "markdown",
   "metadata": {},
   "source": [
    "## Running the model\n",
    "\n",
    "Finally, we can perform the calculation"
   ]
  },
  {
   "cell_type": "code",
   "execution_count": 8,
   "metadata": {},
   "outputs": [],
   "source": [
    "atmosphere.calc_transm(temperature,\n",
    "                       abundances,\n",
    "                       gravity,\n",
    "                       mmw,\n",
    "                       R_pl=r_pl,\n",
    "                       P0_bar=p0,\n",
    "                       radius=radius,\n",
    "                       sigma_lnorm=sigma_lnorm)"
   ]
  },
  {
   "cell_type": "markdown",
   "metadata": {},
   "source": [
    "Now we plot the results"
   ]
  },
  {
   "cell_type": "code",
   "execution_count": 9,
   "metadata": {
    "scrolled": true
   },
   "outputs": [
    {
     "data": {
      "image/png": "[encoded data removed]",
      "text/plain": [
       "<Figure size 432x288 with 1 Axes>"
      ]
     },
     "metadata": {
      "needs_background": "light"
     },
     "output_type": "display_data"
    },
    {
     "data": {
      "text/plain": [
       "<Figure size 432x288 with 0 Axes>"
      ]
     },
     "metadata": {},
     "output_type": "display_data"
    }
   ],
   "source": [
    "import matplotlib.pyplot as plt\n",
    "plt.plot(nc.c/atmosphere.freq/1e-4, atmosphere.transm_rad/nc.r_jup_mean, label = 'cloudy')\n",
    "plt.xscale('log')\n",
    "plt.xlabel('Wavelength (microns)')\n",
    "plt.ylabel(r'Transit radius ($\\rm R_{Jup}$)')\n",
    "plt.legend(loc='best')\n",
    "plt.show()\n",
    "plt.clf()"
   ]
  }
 ],
 "metadata": {
  "kernelspec": {
   "display_name": "Python 3",
   "language": "python",
   "name": "python3"
  },
  "language_info": {
   "codemirror_mode": {
    "name": "ipython",
    "version": 3
   },
   "file_extension": ".py",
   "mimetype": "text/x-python",
   "name": "python",
   "nbconvert_exporter": "python",
   "pygments_lexer": "ipython3",
   "version": "3.8.5"
  }
 },
 "nbformat": 4,
 "nbformat_minor": 4
}
