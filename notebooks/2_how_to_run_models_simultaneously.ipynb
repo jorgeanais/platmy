{
 "cells": [
  {
   "cell_type": "markdown",
   "metadata": {},
   "source": [
    "# How to run models simultaneously\n",
    "\n",
    "*Jorge Anais*  \n",
    "*16 August 2020*  \n",
    "\n",
    "In this document I will describe briefly how to run petitRADTRANS for different physical parameters using multiprocessing module.\n"
   ]
  },
  {
   "cell_type": "code",
   "execution_count": 2,
   "metadata": {},
   "outputs": [],
   "source": [
    "import multiprocessing as mp\n",
    "import numpy as np\n",
    "from petitRADTRANS import nat_cst as nc\n",
    "from petitRADTRANS import Radtrans\n",
    "from platmy import tools\n",
    "from platmy.model import Planet"
   ]
  },
  {
   "cell_type": "markdown",
   "metadata": {},
   "source": [
    "To select the respective `abundances.inp` file I use a small function defined in `platmy/tools.py`."
   ]
  },
  {
   "cell_type": "code",
   "execution_count": 3,
   "metadata": {},
   "outputs": [],
   "source": [
    "abund_type = 'std'\n",
    "tools.set_abundance_file(abund_type)"
   ]
  },
  {
   "cell_type": "markdown",
   "metadata": {},
   "source": [
    "Then, using lists, we define all the basic parameters for each planet, including a name, mass, radius, temperature and pressure."
   ]
  },
  {
   "cell_type": "code",
   "execution_count": 4,
   "metadata": {},
   "outputs": [],
   "source": [
    "names = ['Jupiter-like', 'HD1397b', 'TOI172b', 'TOI677b']\n",
    "masses = np.array([1., 0.367, 5.42, 1.236]) * nc.m_jup\n",
    "radii = np.array([1., 1.023, 0.965, 1.170]) * nc.r_jup_mean\n",
    "temps_equ = np.arange(500., 2001., 500.)  # grid of temperatures\n",
    "pressure = np.logspace(-6, 2, 100)  # pressure (same for all planets)\n",
    "p0 = 0.10  # bar"
   ]
  },
  {
   "cell_type": "markdown",
   "metadata": {},
   "source": [
    "From those parameters, we build the temperature, pressure and abundances (mass_fractions) structures for each planet.\n",
    "\n",
    "For convinience, I store all the relevant info for a single planet as an object of the class `Planet` (in `platmy/models.py`). During the construction of the object, there is a method that call `easy_chem` program that builds the abundances structure from the (P,T) structure. Notice that we are not using a constant value for abundances, instead, abundances are computed for every layer depending on the pressure and temperature of the layer. \n",
    "\n",
    "This step may take a while to complete."
   ]
  },
  {
   "cell_type": "code",
   "execution_count": 5,
   "metadata": {},
   "outputs": [],
   "source": [
    "planets = [Planet(name=n, radius=r, temp_equ=t, mass=m, pressure=pressure)\n",
    "           for t in temps_equ\n",
    "           for n, m, r in zip(names, masses, radii)]\n"
   ]
  },
  {
   "cell_type": "markdown",
   "metadata": {},
   "source": [
    "Then we define an instance of the Radtrans object with all the species that we want to consider for the computations of the spectra. Don't forget to check that all the species are included in the `abundances.ino` file."
   ]
  },
  {
   "cell_type": "code",
   "execution_count": 6,
   "metadata": {},
   "outputs": [
    {
     "name": "stdout",
     "output_type": "stream",
     "text": [
      "\n",
      "  Read CIA opacities for H2-H2...\n",
      "  Read CIA opacities for H2-He...\n",
      " Done.\n",
      "\n"
     ]
    }
   ],
   "source": [
    "atmosphere = Radtrans(line_species=['C2H2', 'CH4', 'CO', 'CO2', 'H2', 'H2O', 'H2S', 'HCN', 'K', 'NH3', 'Na', 'OH', 'PH3', 'TiO', 'VO'],\n",
    "                      rayleigh_species=['H2', 'He'],\n",
    "                      continuum_opacities=['H2-H2', 'H2-He'],\n",
    "                      cloud_species=['Mg2SiO4(c)_cd'],\n",
    "                      wlen_bords_micron=[0.3, 15],  # max wlen range 0.11 to 250 microns for 'c-k' mode. Ram intensive.\n",
    "                      mode='c-k')"
   ]
  },
  {
   "cell_type": "markdown",
   "metadata": {},
   "source": [
    "We set the haze and pcloud parameters. If you don't want to incorporate them in the model set to None."
   ]
  },
  {
   "cell_type": "code",
   "execution_count": 7,
   "metadata": {},
   "outputs": [],
   "source": [
    "haze_factor = 10\n",
    "pcloud = 0.01\n",
    "description = f'A X planet with {abund_type} abundances and haze_factor={haze_factor} and pcloud={pcloud}'"
   ]
  },
  {
   "cell_type": "markdown",
   "metadata": {},
   "source": [
    "Also, we add some Condensate clouds parameters to our models. As before, set to None if you don't want to use it."
   ]
  },
  {
   "cell_type": "code",
   "execution_count": 8,
   "metadata": {},
   "outputs": [],
   "source": [
    "radius = {}\n",
    "radius['Mg2SiO4(c)'] = 0.00005 * np.ones_like(pressure) # I.e. a 0.5-micron particle size (0.00005 cm)\n",
    "sigma_lnorm = 1.05"
   ]
  },
  {
   "cell_type": "markdown",
   "metadata": {},
   "source": [
    "Now we run our models in parallel using the multiprocessing library. For that we need a function, in this case `worker()` (in `platmy.tools.py`), and a grid of parameters.\n",
    "\n",
    "We construct the grid of parameters, one per planet, as follows:"
   ]
  },
  {
   "cell_type": "code",
   "execution_count": 9,
   "metadata": {},
   "outputs": [],
   "source": [
    "# Grid of params\n",
    "models = [(atmosphere, pl, p0, sigma_lnorm, radius, pcloud, haze_factor, description) for pl in planets]"
   ]
  },
  {
   "cell_type": "markdown",
   "metadata": {},
   "source": [
    "We execute this function in parallel. Because it could be very ram intensive if you run several models at the same time (at least for my PC), we set the numer of parallel process to 3."
   ]
  },
  {
   "cell_type": "code",
   "execution_count": 11,
   "metadata": {},
   "outputs": [],
   "source": [
    "with mp.Pool(3) as pool:\n",
    "    results = pool.starmap(tools.worker, models)"
   ]
  },
  {
   "cell_type": "markdown",
   "metadata": {},
   "source": [
    "Once completed, you should find the files with the models and plots in the `datagen/` and `plots/` folders respectively."
   ]
  }
 ],
 "metadata": {
  "kernelspec": {
   "display_name": "Python 3",
   "language": "python",
   "name": "python3"
  },
  "language_info": {
   "codemirror_mode": {
    "name": "ipython",
    "version": 3
   },
   "file_extension": ".py",
   "mimetype": "text/x-python",
   "name": "python",
   "nbconvert_exporter": "python",
   "pygments_lexer": "ipython3",
   "version": "3.8.5"
  }
 },
 "nbformat": 4,
 "nbformat_minor": 4
}
